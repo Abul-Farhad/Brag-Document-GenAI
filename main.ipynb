{
 "cells": [
  {
   "cell_type": "markdown",
   "id": "fe8a36ba2d9fd15",
   "metadata": {},
   "source": [
    "### Imports and Load Environment Variables"
   ]
  },
  {
   "cell_type": "code",
   "execution_count": 9,
   "id": "initial_id",
   "metadata": {
    "ExecuteTime": {
     "end_time": "2025-10-20T10:24:59.080014Z",
     "start_time": "2025-10-20T10:24:59.076514Z"
    },
    "collapsed": true
   },
   "outputs": [
    {
     "data": {
      "text/plain": [
       "True"
      ]
     },
     "execution_count": 9,
     "metadata": {},
     "output_type": "execute_result"
    }
   ],
   "source": [
    "import os\n",
    "import openpyxl\n",
    "from dotenv import load_dotenv\n",
    "load_dotenv()"
   ]
  },
  {
   "cell_type": "markdown",
   "id": "1e0ef1e32642107b",
   "metadata": {},
   "source": [
    "### Function to Extract Employee Data from Excel"
   ]
  },
  {
   "cell_type": "code",
   "execution_count": null,
   "id": "f6db06693a98423f",
   "metadata": {},
   "outputs": [],
   "source": [
    "def get_all_employee_values(file_path: str, employee_name: str, month: str, column_name: str) -> list:\n",
    "    \"\"\"\n",
    "    Opens an .xlsx workbook and finds all values for a specific employee\n",
    "    from a given column across ALL sheets that match a given month.\n",
    "\n",
    "    Args:\n",
    "        file_path (str): The path to the .xlsx file.\n",
    "        employee_name (str): The name of the employee to find.\n",
    "        month (str): The month to search for in sheet names (e.g., \"October\").\n",
    "        column_name (str): The header of the column from which to get the value.\n",
    "\n",
    "    Returns:\n",
    "        list: A list containing all the values found. The list will be\n",
    "              empty if no matches are found.\n",
    "    \"\"\"\n",
    "    try:\n",
    "        workbook = openpyxl.load_workbook(file_path, data_only=True)\n",
    "        found_values = []\n",
    "\n",
    "        # Iterate through every sheet in the workbook\n",
    "        for sheet_name in workbook.sheetnames:\n",
    "            # If the sheet name doesn't contain the month, skip to the next one\n",
    "            if month.lower() not in sheet_name.lower():\n",
    "                continue\n",
    "\n",
    "            # A sheet for the correct month was found, now process it\n",
    "            sheet = workbook[sheet_name]\n",
    "\n",
    "            # Get the header row to find the index of our target column\n",
    "            header = [cell.value for cell in sheet[1]]\n",
    "            try:\n",
    "                col_index = header.index(column_name)\n",
    "            except ValueError:\n",
    "                # If the column doesn't exist in this specific sheet, warn the user and skip it\n",
    "                print(f\"Warning: Column '{column_name}' not in sheet '{sheet_name}'. Skipping this sheet.\")\n",
    "                continue\n",
    "\n",
    "            # Iterate through the data rows to find the employee\n",
    "            for row in sheet.iter_rows(min_row=2, values_only=True):\n",
    "                if employee_name in row:\n",
    "                    value = row[col_index]\n",
    "                    found_values.append(value)\n",
    "\n",
    "        return found_values\n",
    "\n",
    "    except FileNotFoundError:\n",
    "        print(f\"Error: The file at '{file_path}' was not found.\")\n",
    "        return []  # Return an empty list on error\n",
    "    except Exception as e:\n",
    "        print(f\"An unexpected error occurred: {e}\")\n",
    "        return [] "
   ]
  },
  {
   "cell_type": "markdown",
   "id": "878509d05a413aa3",
   "metadata": {},
   "source": [
    "#### Pydantic Models for Structured Output"
   ]
  },
  {
   "cell_type": "code",
   "execution_count": null,
   "id": "557a08b648652076",
   "metadata": {},
   "outputs": [],
   "source": [
    "from pydantic import BaseModel\n",
    "from typing import Dict, List\n",
    "\n",
    "class PersonalReflection(BaseModel):\n",
    "    what_i_am_most_proud_of: List[str]\n",
    "    areas_i_am_focused_on_for_growth: List[str]\n",
    "\n",
    "class WorkAccomplishments(BaseModel):\n",
    "    goals_of_this_quarter: List[str]\n",
    "    goals_of_this_month: List[str]\n",
    "    official_project_accomplishments: List[str]\n",
    "    personal_project_accomplishments: List[str]\n",
    "    personal_reflection: PersonalReflection\n",
    "\n",
    "class EmployeeInfo(BaseModel):\n",
    "    work_accomplishments: WorkAccomplishments\n",
    "    learning: List[str]\n",
    "    utilized_skills: List[str]"
   ]
  },
  {
   "cell_type": "markdown",
   "id": "65a7de1d225a7212",
   "metadata": {},
   "source": [
    "#### Create LangChain Agent"
   ]
  },
  {
   "cell_type": "code",
   "execution_count": null,
   "id": "b7adeaf081132274",
   "metadata": {},
   "outputs": [],
   "source": [
    "from langchain.agents import create_agent\n",
    "from pydantic import BaseModel\n",
    "from langchain_openai import ChatOpenAI\n",
    "\n",
    "agent = create_agent(\n",
    "    model = ChatOpenAI(\n",
    "        model=\"gemini-2.5-flash-lite\",\n",
    "        base_url=os.getenv('GEMINI_API_BASE_URL'),\n",
    "        api_key=os.getenv('GEMINI_API_KEY'),\n",
    "    ),\n",
    "    tools=[],\n",
    "    response_format=EmployeeInfo,\n",
    "    system_prompt=\"\"\"You are an AI assistant that creates professional brag documents from raw input notes, emphasizing achievements, learning, and utilized skills. Follow these instructions:\n",
    "\n",
    "**Instructions:**\n",
    "\n",
    "1. **Input:** Raw notes about accomplishments, learning, and skills.\n",
    "2. **Output:** A brag document in three sections:\n",
    "3. **Caution:** Never ever add any irrelavant information which are not in the working history. Genearate only based on the provided employee information.\n",
    "\n",
    "**Output Structure:**\n",
    "\n",
    "* **WORK ACCOMPLISHMENTS**\n",
    "  * Focus on specific results, improvements, or contributions.\n",
    "  * Use past tense and action-oriented language.\n",
    "  * Do not add ticket number or Task number (e.g. KR-619 etc.).\n",
    "  There are five subcategories such as 'Goals of this Quarter', 'Goals of this Month', 'Official Project Accomplishments', 'Personal Project Accomplishments' and 'Personal Reflection'. Inside 'Personal Reflection', there are two subcategories such as 'What I'm Most Proud Of' and 'Areas I'm Focused On For Growth'.\n",
    "\n",
    "\n",
    "\n",
    "* **LEARNING**\n",
    "\n",
    "  * Convert raw notes about courses, books, or self-study into bullet points.\n",
    "  * Highlight practical knowledge, skills gained, or tools explored.\n",
    "\n",
    "* **UTILIZED SKILLS**\n",
    "\n",
    "  * Extract technologies, frameworks, or tools used.\n",
    "  * Present as a comma-separated list or bullets.\n",
    "\n",
    "**Formatting Rules:**\n",
    "\n",
    "* Do **not** include a title/header; start with the first section.\n",
    "* Every line must be a single bullet point.\n",
    "* Keep language professional, precise, and specific.\n",
    "* Avoid vague statements; emphasize measurable or observable impact.\n",
    "* Do not add more than 10 bullet points for any section. Do not add more than 7 skills.\n",
    "* Use section headers exactly as: `WORK ACCOMPLISHMENTS`, `LEARNING`, `UTILIZED SKILLS`.\n",
    "\n",
    "    \"\"\"\n",
    "\n",
    ")\n",
    "\n"
   ]
  },
  {
   "cell_type": "markdown",
   "id": "2e0c27a55d47112e",
   "metadata": {},
   "source": [
    "#### Function to Print Brag Document"
   ]
  },
  {
   "cell_type": "code",
   "execution_count": null,
   "id": "974ba2b9f48f10b4",
   "metadata": {},
   "outputs": [],
   "source": [
    "def print_brag_document(response: EmployeeInfo):\n",
    "    print(\"WORK ACCOMPLISHMENTS\")\n",
    "    wa = response.work_accomplishments\n",
    "    print(\"\\nGoals of this Quarter:\")\n",
    "    for item in wa.goals_of_this_quarter:\n",
    "        print(f\"- {item}\")\n",
    "    print(\"\\nGoals of this Month:\")\n",
    "    for item in wa.goals_of_this_month:\n",
    "        print(f\"- {item}\")\n",
    "    print(\"\\nOfficial Project Accomplishments:\")\n",
    "    for item in wa.official_project_accomplishments:\n",
    "        print(f\"- {item}\")\n",
    "    print(\"\\nPersonal Project Accomplishments:\")\n",
    "    for item in wa.personal_project_accomplishments:\n",
    "        print(f\"- {item}\")\n",
    "    print(\"\\nPersonal Reflection:\")\n",
    "    pr = wa.personal_reflection\n",
    "    print(\"  What I am Most Proud Of:\")\n",
    "    for item in pr.what_i_am_most_proud_of:\n",
    "        print(f\"  - {item}\")\n",
    "    print(\"  Areas I am Focused On For Growth:\")\n",
    "    for item in pr.areas_i_am_focused_on_for_growth:\n",
    "        print(f\"  - {item}\")\n",
    "\n",
    "    print(\"\\nLEARNING\")\n",
    "    for item in response.learning:\n",
    "        print(f\"- {item}\")\n",
    "\n",
    "    print(\"\\nUTILIZED SKILLS\")\n",
    "    for item in response.utilized_skills:\n",
    "        print(f\"- {item}\")"
   ]
  },
  {
   "cell_type": "markdown",
   "id": "f4de84016a1d79ac",
   "metadata": {},
   "source": [
    "### Invoke the Agent with Employee Data"
   ]
  },
  {
   "cell_type": "code",
   "execution_count": null,
   "id": "d16b70f0c017f9b3",
   "metadata": {},
   "outputs": [],
   "source": [
    "employee_info = get_all_employee_values(file_path='Training 2025 -Daily Scrum Report.xlsx', employee_name='K. M. Abul Farhad-Ibn-Alam', month='September', column_name='What I did  yesterday?')\n",
    "\n",
    "response = agent.invoke(\n",
    "    {\"messages\": [{\"role\": \"user\", \"content\": f\"Here is the employee information: {\" \".join(employee_info)}\"}]}\n",
    ")"
   ]
  },
  {
   "cell_type": "markdown",
   "id": "ea7cf12425ec2bf2",
   "metadata": {},
   "source": [
    "#### Print the Generated Brag Document"
   ]
  },
  {
   "cell_type": "code",
   "execution_count": null,
   "id": "547cc9f85119f4c5",
   "metadata": {},
   "outputs": [],
   "source": [
    "print_brag_document(response=response[\"structured_response\"])"
   ]
  },
  {
   "cell_type": "code",
   "execution_count": null,
   "id": "e9c059b22227c831",
   "metadata": {},
   "outputs": [],
   "source": []
  }
 ],
 "metadata": {
  "kernelspec": {
   "display_name": "Python 3",
   "language": "python",
   "name": "python3"
  },
  "language_info": {
   "codemirror_mode": {
    "name": "ipython",
    "version": 2
   },
   "file_extension": ".py",
   "mimetype": "text/x-python",
   "name": "python",
   "nbconvert_exporter": "python",
   "pygments_lexer": "ipython2",
   "version": "2.7.6"
  }
 },
 "nbformat": 4,
 "nbformat_minor": 5
}
